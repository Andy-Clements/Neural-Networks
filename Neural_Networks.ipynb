{
 "cells": [
  {
   "cell_type": "markdown",
   "metadata": {},
   "source": [
    "$\\newcommand{\\xv}{\\mathbf{x}}\n",
    "\\newcommand{\\Xv}{\\mathbf{X}}\n",
    "\\newcommand{\\yv}{\\mathbf{y}}\n",
    "\\newcommand{\\zv}{\\mathbf{z}}\n",
    "\\newcommand{\\av}{\\mathbf{a}}\n",
    "\\newcommand{\\Wv}{\\mathbf{W}}\n",
    "\\newcommand{\\wv}{\\mathbf{w}}\n",
    "\\newcommand{\\tv}{\\mathbf{t}}\n",
    "\\newcommand{\\Tv}{\\mathbf{T}}\n",
    "\\newcommand{\\muv}{\\boldsymbol{\\mu}}\n",
    "\\newcommand{\\sigmav}{\\boldsymbol{\\sigma}}\n",
    "\\newcommand{\\phiv}{\\boldsymbol{\\phi}}\n",
    "\\newcommand{\\Phiv}{\\boldsymbol{\\Phi}}\n",
    "\\newcommand{\\Sigmav}{\\boldsymbol{\\Sigma}}\n",
    "\\newcommand{\\Lambdav}{\\boldsymbol{\\Lambda}}\n",
    "\\newcommand{\\half}{\\frac{1}{2}}\n",
    "\\newcommand{\\argmax}[1]{\\underset{#1}{\\operatorname{argmax}}}\n",
    "\\newcommand{\\argmin}[1]{\\underset{#1}{\\operatorname{argmin}}}$"
   ]
  },
  {
   "cell_type": "markdown",
   "metadata": {},
   "source": [
    "# Neural Networks"
   ]
  },
  {
   "cell_type": "markdown",
   "metadata": {},
   "source": [
    "Andy Clements"
   ]
  },
  {
   "cell_type": "markdown",
   "metadata": {},
   "source": [
    "## Overview"
   ]
  },
  {
   "cell_type": "markdown",
   "metadata": {},
   "source": [
    "Imported Libraries used throughout this notebook. Matplotlib was used for all of the plotting of data. Pandas and numpy were used to parse data into this notebook and manipulated to work with the given neuralnetworks.py, scaledconjugategradient.py, and mlutils.py which were used in lecture by Professor Chuck Anderson. Time was used to get some performance analysis for the required written functions."
   ]
  },
  {
   "cell_type": "code",
   "execution_count": 1,
   "metadata": {},
   "outputs": [],
   "source": [
    "import matplotlib.pyplot as plt\n",
    "%matplotlib inline\n",
    "import pandas as pd\n",
    "from pprint import pprint\n",
    "import numpy as np\n",
    "import neuralnetworks as nn\n",
    "import scaledconjugategradient as scg\n",
    "import mlutils as ml\n",
    "from time import time"
   ]
  },
  {
   "cell_type": "markdown",
   "metadata": {},
   "source": [
    "trainNNs is the main required function for this assignment. It is used to train and evaluate neural network models. It is designed to work with both regression problems and claassification problems depending on which one it is working on. The function takes as arguments `X` - a matrix of input data from a chosen data set, `T` - a matrix of all target data in that data set, `trainFraction` - the fraction to be used to partition X and T into training and testing sets, `hiddenLayerStructures` - the neural network models to evaluate, `numberRepetitions` - the number of times to train a neural network model, `numberIterationss` - the number of iterations to run the scaled conjugate gradient algorithm when a neural network is trained, and `classify` - a boolean to check whether or not to handle the call as a classification problem or not.\n",
    "\n",
    "The function returns `all_results` which is a list with one element for each network model tested. Along with that network model, or network structure, is a list of training data performance for each repetition, a list of testing data performance for each repetition, and the number of seconds it took to run the `numberRepetitions` for the network model.\n",
    "\n",
    "The function takes the `hiddenLayerStructures` and iterated through them gathering `all_results` as it goes. For each `rep` in `numberRepetitions` the following is timed. The mlutils.py library uses its partition function to randomly partition X and T into training and testing sets (`trainFraction` is used to partition the two). If the problem is to classify then it will construct a NeuralNetworkClassifier object using the number of columns in X as the number of inputs, ns as the number of structures used in the current `hiddenLayerStructurs` element, and the number of unique values in T as the number of outputs. If the problem is not to classify it will created a NeuralNetwork object using the columns in X as the number of inputs, the same number of structures indicated before, and the columns in T as the number of outputs. Once the neural network is created it will train it using the Xtrain and Ttrain partitions from mlutils.partition and the given `numberIterations`. The neural network will then be used to produce outputs for the training and testing sets. If the problem is to classify it will calculate the fraction of samples incorrectly classified for training and testing sets, otherwise it calculate the RMSE (root mean squared error) of training and testing sets. The timer is stopped and results are gathered and the function iterates the rest of the way through."
   ]
  },
  {
   "cell_type": "code",
   "execution_count": 2,
   "metadata": {},
   "outputs": [],
   "source": [
    "def trainNNs(X, T, trainFraction, hiddenLayerStructures, numberRepetitions, \n",
    "             numberIterations, classify=False):\n",
    "    all_results = []\n",
    "    # For each network structure given in hiddenLayerStructures\n",
    "    for ns in hiddenLayerStructures:\n",
    "        training_performance = []\n",
    "        testing_performance = []\n",
    "        startTime = time()\n",
    "        # For numberRepetitions\n",
    "        for rep in range(numberRepetitions):\n",
    "            # Use ml.partition to randomly partition X and T into training and testing sets.\n",
    "            Xtrain,Ttrain,Xtest,Ttest = \\\n",
    "                ml.partition(X,T,(trainFraction,1-trainFraction),classification=classify)\n",
    "            # Create a neural network of the given structure\n",
    "            if classify:\n",
    "                nnet = nn.NeuralNetworkClassifier(X.shape[1], \n",
    "                                                  ns, \n",
    "                                                  len(np.unique(T)))\n",
    "                                                  #T.shape[1]) # Might want to use len(np.unique(T)) for this\n",
    "                                                              # This means the number of outputs will be different\n",
    "            else:\n",
    "                nnet = nn.NeuralNetwork(X.shape[1], ns, T.shape[1]) #rXows, network structure, Trows\n",
    "            # Train it for numberIterations\n",
    "            nnet.train(Xtrain,Ttrain,numberIterations) # precision not included, so defaults of zero used, \n",
    "                                             # which means will not terminate early\n",
    "            # Use the trained network to produce outputs for the \n",
    "            ## training and for the testing sets\n",
    "            Ytrain = nnet.use(Xtrain)\n",
    "            Ytest = nnet.use(Xtest)\n",
    "            # If classifying, calculate the fraction of samples incorrectly classified for \n",
    "            ## training and testing sets. \n",
    "            if classify:\n",
    "                # CHECK HERE IF ISSUE WITH CALCULATE INCORRECTLY CLASSIFIED FRACTION IF SAMPLES\n",
    "                training_performance.append(np.sum(Ytrain!=Ttrain)/len(Ttrain))\n",
    "                testing_performance.append(np.sum(Ytest!=Ttest)/len(Ttest))\n",
    "            else: # Otherwise, calculate the RMSE of training and testing sets.\n",
    "                training_performance.append(np.sqrt(np.mean((Ytrain-Ttrain)**2)))\n",
    "                testing_performance.append(np.sqrt(np.mean((Ytest-Ttest)**2)))\n",
    "            # Add the training and testing performance to a collection (such as a list) for \n",
    "            ## this network structure\n",
    "            '''Done above this without variables'''\n",
    "        # Add to a collection of all results the hidden layer structure, lists of training \n",
    "        ##performance and testing performance, and seconds taken to do these repetitions.\n",
    "        seconds = time() - startTime\n",
    "        all_results.append([ns, training_performance, testing_performance, seconds])\n",
    "    #return the collection of all results\n",
    "    return all_results"
   ]
  },
  {
   "cell_type": "markdown",
   "metadata": {},
   "source": [
    "`summarize(results)` returns a list of lists like results from `trainNNs` but with the list of training performances replaced by their mean and the list of testing performances replaced by their mean."
   ]
  },
  {
   "cell_type": "code",
   "execution_count": 3,
   "metadata": {},
   "outputs": [],
   "source": [
    "def summarize(results):\n",
    "    summary = []\n",
    "    for i in results:\n",
    "        summary.append([i[0],\n",
    "            np.mean(i[1]),\n",
    "            np.mean(i[2]),\n",
    "            i[3]])\n",
    "    return summary"
   ]
  },
  {
   "cell_type": "markdown",
   "metadata": {},
   "source": [
    "`bestNetwork(summary)` takes the output of `summarize(results)` and returns the best element of `results`, determined by the element that has the smallest test performance."
   ]
  },
  {
   "cell_type": "code",
   "execution_count": 4,
   "metadata": {},
   "outputs": [],
   "source": [
    "def bestNetwork(summary):\n",
    "    sumdf = pd.DataFrame(summary)\n",
    "    return list(sumdf.loc[sumdf[2].idxmin()])"
   ]
  },
  {
   "cell_type": "markdown",
   "metadata": {},
   "source": [
    "`plotRegression` takes actual and predicted data and plots them out for analysis later on"
   ]
  },
  {
   "cell_type": "code",
   "execution_count": 5,
   "metadata": {},
   "outputs": [],
   "source": [
    "def plotRegression(T, Y, title=\"Energy - Predicted vs True Appliance\"):\n",
    "    fig = plt.figure()\n",
    "    plt.plot(T,Y,'g.')\n",
    "    plt.ylabel('Predicted Appliance')\n",
    "    plt.xlabel('True Appliance')\n",
    "    plt.title(title)\n",
    "    handles, labels = plt.gca().get_legend_handles_labels()\n",
    "    plt.legend(handles, labels)\n",
    "    plt.show()"
   ]
  },
  {
   "cell_type": "markdown",
   "metadata": {},
   "source": [
    "## Examples\n",
    "\n",
    "Example data set to show easy examples of the functions being used and how to select the best number of iterations and network structures"
   ]
  },
  {
   "cell_type": "code",
   "execution_count": 6,
   "metadata": {},
   "outputs": [],
   "source": [
    "X = np.arange(10).reshape((-1,1))\n",
    "T = X + 1 + np.random.uniform(-1, 1, ((10,1)))"
   ]
  },
  {
   "cell_type": "code",
   "execution_count": 7,
   "metadata": {},
   "outputs": [
    {
     "data": {
      "image/png": "[encoded data removed]",
      "text/plain": [
       "<Figure size 432x288 with 1 Axes>"
      ]
     },
     "metadata": {},
     "output_type": "display_data"
    }
   ],
   "source": [
    "plt.plot(X, T, 'o-');"
   ]
  },
  {
   "cell_type": "code",
   "execution_count": 8,
   "metadata": {},
   "outputs": [
    {
     "data": {
      "text/plain": [
       "array([0.70710678, 0.24423669, 0.1651861 , 0.16131226, 0.15839745,\n",
       "       0.15025401, 0.14654371, 0.14458578, 0.14208104, 0.14175718,\n",
       "       0.14070935, 0.13818339, 0.13773122, 0.13623516, 0.13620545,\n",
       "       0.13616525, 0.13563169, 0.13544907, 0.13479852, 0.13414908,\n",
       "       0.13383325, 0.1327033 , 0.13244086, 0.13201643, 0.13174066,\n",
       "       0.13174066, 0.12670988, 0.12634012, 0.12005549, 0.11857126,\n",
       "       0.11845365, 0.11802315, 0.11573215, 0.11549299, 0.11263449,\n",
       "       0.11043019, 0.10722716, 0.10076503, 0.09987196, 0.09931442,\n",
       "       0.09895198, 0.09830641, 0.09743491, 0.09719523, 0.09700016,\n",
       "       0.09628498, 0.09556819, 0.09496124, 0.09441282, 0.08915811,\n",
       "       0.08790412, 0.08760645, 0.08718345, 0.08608626, 0.08420831,\n",
       "       0.08415644, 0.08371049, 0.08321131, 0.08312428, 0.08304156,\n",
       "       0.08298227, 0.08212868, 0.08206671, 0.08196027, 0.08153644,\n",
       "       0.08137671, 0.08133045, 0.081253  , 0.08065447, 0.08057037,\n",
       "       0.08047202, 0.07958198, 0.07949143, 0.07945261, 0.07927628,\n",
       "       0.07905232, 0.07903652, 0.07902694, 0.07898099, 0.07897218,\n",
       "       0.07895982, 0.07891825, 0.07885451, 0.07884209, 0.07871914,\n",
       "       0.07867178, 0.07865174, 0.07846078, 0.07845851, 0.07845104,\n",
       "       0.07844113, 0.07843191, 0.0784296 , 0.07842746, 0.07841968,\n",
       "       0.07841152, 0.07840604, 0.0783872 , 0.07829018, 0.07828569,\n",
       "       0.0782828 ])"
      ]
     },
     "execution_count": 8,
     "metadata": {},
     "output_type": "execute_result"
    }
   ],
   "source": [
    "nnet = nn.NeuralNetwork(X.shape[1], 2, T.shape[1])\n",
    "nnet.train(X, T, 100)\n",
    "nnet.getErrorTrace()"
   ]
  },
  {
   "cell_type": "code",
   "execution_count": 9,
   "metadata": {},
   "outputs": [
    {
     "data": {
      "text/plain": [
       "array([0.70710678, 0.45951524, 0.45951524, 0.45951524, 0.25181455,\n",
       "       0.21008035, 0.15956231, 0.15815941, 0.15583729, 0.15389745,\n",
       "       0.1444135 , 0.14379568, 0.14323907, 0.14285012, 0.13863   ,\n",
       "       0.13843761, 0.13689665, 0.1356468 , 0.13557782, 0.13557782,\n",
       "       0.13557782, 0.13557782, 0.13521935, 0.12646714, 0.12539229,\n",
       "       0.1232501 , 0.12323603, 0.12281374, 0.12281374, 0.12281374,\n",
       "       0.12281374, 0.12281374, 0.11446273, 0.11417335, 0.1132292 ,\n",
       "       0.11203641, 0.11155634, 0.11031886, 0.10846321, 0.10400346,\n",
       "       0.10312851, 0.10290687, 0.10271131, 0.10267546, 0.10263088,\n",
       "       0.10239114, 0.10181873, 0.10162601, 0.1015476 , 0.10119075,\n",
       "       0.10087044, 0.099347  , 0.09891105, 0.09877974, 0.09856133,\n",
       "       0.0971073 , 0.09700202, 0.09405385, 0.09281013, 0.08773625,\n",
       "       0.08723363, 0.08473064, 0.0802198 , 0.08007218, 0.07966978,\n",
       "       0.07958549, 0.07955392, 0.07792204, 0.07749573, 0.07631334,\n",
       "       0.07450805, 0.07424608, 0.07401452, 0.07301244, 0.07290616,\n",
       "       0.07247701, 0.07161499, 0.07155735, 0.0714969 , 0.07129259,\n",
       "       0.07126585, 0.07108782, 0.07027632, 0.07017086, 0.07006208,\n",
       "       0.0698727 , 0.0698165 , 0.06978753, 0.06957969, 0.06946345,\n",
       "       0.06945252, 0.06943519, 0.06943519, 0.06943519, 0.06943519,\n",
       "       0.06943519, 0.06943519, 0.06943519, 0.06943519, 0.06943519,\n",
       "       0.06943519])"
      ]
     },
     "execution_count": 9,
     "metadata": {},
     "output_type": "execute_result"
    }
   ],
   "source": [
    "nnet = nn.NeuralNetwork(X.shape[1], [5, 5, 5], T.shape[1])\n",
    "nnet.train(X, T, 100)\n",
    "nnet.getErrorTrace()"
   ]
  },
  {
   "cell_type": "code",
   "execution_count": 10,
   "metadata": {},
   "outputs": [
    {
     "data": {
      "text/plain": [
       "[[2,\n",
       "  [0.30659919357431,\n",
       "   0.20925749531396576,\n",
       "   0.635906797324682,\n",
       "   0.636779898682868,\n",
       "   0.3482577311768003],\n",
       "  [0.6318318276392216,\n",
       "   1.4685868799267119,\n",
       "   0.8407510855032548,\n",
       "   0.3969460233010682,\n",
       "   0.8991695621042909],\n",
       "  0.07497262954711914],\n",
       " [10,\n",
       "  [0.013734105534768013,\n",
       "   0.2795206141503955,\n",
       "   0.16676446742959528,\n",
       "   0.16853961161620018,\n",
       "   0.1350304977903605],\n",
       "  [1.06870946186851,\n",
       "   0.7989190592036907,\n",
       "   1.5378805254397494,\n",
       "   0.9086925095435168,\n",
       "   1.1615600489382747],\n",
       "  0.08193755149841309],\n",
       " [[10, 10],\n",
       "  [0.10221997319934184,\n",
       "   0.16218029691033978,\n",
       "   0.2005690393234091,\n",
       "   0.11309078594417729,\n",
       "   0.13512541019281424],\n",
       "  [1.0411036036698005,\n",
       "   1.1923526617131446,\n",
       "   0.7163921335437438,\n",
       "   0.8910896346757554,\n",
       "   1.0667408714887372],\n",
       "  0.11794424057006836]]"
      ]
     },
     "execution_count": 10,
     "metadata": {},
     "output_type": "execute_result"
    }
   ],
   "source": [
    "results = trainNNs(X, T, 0.8, [2, 10, [10, 10]], 5, 100, classify=False)\n",
    "results"
   ]
  },
  {
   "cell_type": "code",
   "execution_count": 11,
   "metadata": {},
   "outputs": [],
   "source": [
    "results = trainNNs(X, T, 0.8, [0, 1, 2, 10, [10, 10], [5, 5, 5, 5], [2]*5], 50, 100, classify=False)"
   ]
  },
  {
   "cell_type": "code",
   "execution_count": 12,
   "metadata": {},
   "outputs": [
    {
     "data": {
      "text/plain": [
       "[[0, 0.6006399312766988, 0.8473922193879208, 0.018991470336914062],\n",
       " [1, 0.5655338173567238, 0.9092532071184252, 0.6866073608398438],\n",
       " [2, 0.42741744818625726, 1.0989402236457537, 0.7705602645874023],\n",
       " [10, 0.20888918455415365, 0.9897834607160588, 0.765561580657959],\n",
       " [[10, 10], 0.18796951154329275, 0.9398768002378559, 1.112377643585205],\n",
       " [[5, 5, 5, 5], 0.369370767988905, 0.9163491293390326, 1.5031335353851318],\n",
       " [[2, 2, 2, 2, 2], 0.5275009725953089, 0.9017389538745203, 1.6200716495513916]]"
      ]
     },
     "execution_count": 12,
     "metadata": {},
     "output_type": "execute_result"
    }
   ],
   "source": [
    "summarize(results)"
   ]
  },
  {
   "cell_type": "code",
   "execution_count": 13,
   "metadata": {},
   "outputs": [
    {
     "name": "stdout",
     "output_type": "stream",
     "text": [
      "[0, 0.6006399312766988, 0.8473922193879208, 0.018991470336914062]\n",
      "Hidden Layers 0 Average RMSE Training 0.60 Testing 0.85 Took 0.02 seconds\n"
     ]
    }
   ],
   "source": [
    "best = bestNetwork(summarize(results))\n",
    "print(best)\n",
    "print('Hidden Layers {} Average RMSE Training {:.2f} Testing {:.2f} Took {:.2f} seconds'.format(*best))"
   ]
  },
  {
   "cell_type": "markdown",
   "metadata": {},
   "source": [
    "The best neural network was one with no hidden layers. That means that the lowest test performance for `summarize(results)` was in that network structure. "
   ]
  },
  {
   "cell_type": "markdown",
   "metadata": {},
   "source": [
    "# Data for Regression Experiment\n",
    "\n",
    "The data used is from the UCI Machine Learning Repository. I used pandas to read in the energy file from the url given here: the [Appliances energy prediction](http://archive.ics.uci.edu/ml/datasets/Appliances+energy+prediction) data.\n"
   ]
  },
  {
   "cell_type": "code",
   "execution_count": 14,
   "metadata": {},
   "outputs": [],
   "source": [
    "# CSV file\n",
    "csv_file = 'energydata_complete.csv'\n",
    "# URL if CSV isn't downloaded\n",
    "url = 'http://archive.ics.uci.edu/ml/machine-learning-databases/00374/energydata_complete.csv'\n",
    "# read cvs with pandas read_csv from the URL. Use columns 1-27 and delimit by a comma\n",
    "df = pd.read_csv(url, delimiter=',', usecols=range(1,27))\n",
    "#copy the data so manipulations happen to the copy in case I need df later.\n",
    "data = df.copy()"
   ]
  },
  {
   "cell_type": "markdown",
   "metadata": {},
   "source": [
    "The column names and number of columns"
   ]
  },
  {
   "cell_type": "code",
   "execution_count": 16,
   "metadata": {},
   "outputs": [
    {
     "data": {
      "text/plain": [
       "(array(['Appliances', 'lights', 'T1', 'RH_1', 'T2', 'RH_2', 'T3', 'RH_3',\n",
       "        'T4', 'RH_4', 'T5', 'RH_5', 'T6', 'RH_6', 'T7', 'RH_7', 'T8',\n",
       "        'RH_8', 'T9', 'RH_9', 'T_out', 'Press_mm_hg', 'RH_out',\n",
       "        'Windspeed', 'Visibility', 'Tdewpoint'], dtype=object), 26)"
      ]
     },
     "execution_count": 16,
     "metadata": {},
     "output_type": "execute_result"
    }
   ],
   "source": [
    "names = data.columns.values\n",
    "names, len(names)"
   ]
  },
  {
   "cell_type": "markdown",
   "metadata": {},
   "source": [
    "Shape of the input data before I slice into it"
   ]
  },
  {
   "cell_type": "code",
   "execution_count": 17,
   "metadata": {},
   "outputs": [
    {
     "data": {
      "text/plain": [
       "(19735, 26)"
      ]
     },
     "execution_count": 17,
     "metadata": {},
     "output_type": "execute_result"
    }
   ],
   "source": [
    "data.shape"
   ]
  },
  {
   "cell_type": "markdown",
   "metadata": {},
   "source": [
    "In pandas you can slice by clumn name or index so I tried both"
   ]
  },
  {
   "cell_type": "code",
   "execution_count": 22,
   "metadata": {},
   "outputs": [
    {
     "data": {
      "text/html": [
       "<div>\n",
       "<style scoped>\n",
       "    .dataframe tbody tr th:only-of-type {\n",
       "        vertical-align: middle;\n",
       "    }\n",
       "\n",
       "    .dataframe tbody tr th {\n",
       "        vertical-align: top;\n",
       "    }\n",
       "\n",
       "    .dataframe thead th {\n",
       "        text-align: right;\n",
       "    }\n",
       "</style>\n",
       "<table border=\"1\" class=\"dataframe\">\n",
       "  <thead>\n",
       "    <tr style=\"text-align: right;\">\n",
       "      <th></th>\n",
       "      <th>Appliances</th>\n",
       "      <th>lights</th>\n",
       "    </tr>\n",
       "  </thead>\n",
       "  <tbody>\n",
       "    <tr>\n",
       "      <th>0</th>\n",
       "      <td>60</td>\n",
       "      <td>30</td>\n",
       "    </tr>\n",
       "    <tr>\n",
       "      <th>1</th>\n",
       "      <td>60</td>\n",
       "      <td>30</td>\n",
       "    </tr>\n",
       "    <tr>\n",
       "      <th>2</th>\n",
       "      <td>50</td>\n",
       "      <td>30</td>\n",
       "    </tr>\n",
       "  </tbody>\n",
       "</table>\n",
       "</div>"
      ],
      "text/plain": [
       "   Appliances  lights\n",
       "0          60      30\n",
       "1          60      30\n",
       "2          50      30"
      ]
     },
     "execution_count": 22,
     "metadata": {},
     "output_type": "execute_result"
    }
   ],
   "source": [
    "test_df_slicing = data.loc[:, ['Appliances', 'lights']]\n",
    "test_df_slicing.head(3)"
   ]
  },
  {
   "cell_type": "code",
   "execution_count": 23,
   "metadata": {},
   "outputs": [],
   "source": [
    "Xenergy = data.iloc[:, 2:]\n",
    "Tenergy = data.iloc[:,:2]"
   ]
  },
  {
   "cell_type": "code",
   "execution_count": 24,
   "metadata": {},
   "outputs": [
    {
     "data": {
      "text/html": [
       "<div>\n",
       "<style scoped>\n",
       "    .dataframe tbody tr th:only-of-type {\n",
       "        vertical-align: middle;\n",
       "    }\n",
       "\n",
       "    .dataframe tbody tr th {\n",
       "        vertical-align: top;\n",
       "    }\n",
       "\n",
       "    .dataframe thead th {\n",
       "        text-align: right;\n",
       "    }\n",
       "</style>\n",
       "<table border=\"1\" class=\"dataframe\">\n",
       "  <thead>\n",
       "    <tr style=\"text-align: right;\">\n",
       "      <th></th>\n",
       "      <th>T1</th>\n",
       "      <th>RH_1</th>\n",
       "      <th>T2</th>\n",
       "      <th>RH_2</th>\n",
       "      <th>T3</th>\n",
       "      <th>RH_3</th>\n",
       "      <th>T4</th>\n",
       "      <th>RH_4</th>\n",
       "      <th>T5</th>\n",
       "      <th>RH_5</th>\n",
       "      <th>...</th>\n",
       "      <th>T8</th>\n",
       "      <th>RH_8</th>\n",
       "      <th>T9</th>\n",
       "      <th>RH_9</th>\n",
       "      <th>T_out</th>\n",
       "      <th>Press_mm_hg</th>\n",
       "      <th>RH_out</th>\n",
       "      <th>Windspeed</th>\n",
       "      <th>Visibility</th>\n",
       "      <th>Tdewpoint</th>\n",
       "    </tr>\n",
       "  </thead>\n",
       "  <tbody>\n",
       "    <tr>\n",
       "      <th>0</th>\n",
       "      <td>19.89</td>\n",
       "      <td>47.596667</td>\n",
       "      <td>19.2</td>\n",
       "      <td>44.790000</td>\n",
       "      <td>19.79</td>\n",
       "      <td>44.730000</td>\n",
       "      <td>19.000000</td>\n",
       "      <td>45.566667</td>\n",
       "      <td>17.166667</td>\n",
       "      <td>55.20</td>\n",
       "      <td>...</td>\n",
       "      <td>18.2</td>\n",
       "      <td>48.900000</td>\n",
       "      <td>17.033333</td>\n",
       "      <td>45.53</td>\n",
       "      <td>6.600000</td>\n",
       "      <td>733.5</td>\n",
       "      <td>92.0</td>\n",
       "      <td>7.000000</td>\n",
       "      <td>63.000000</td>\n",
       "      <td>5.3</td>\n",
       "    </tr>\n",
       "    <tr>\n",
       "      <th>1</th>\n",
       "      <td>19.89</td>\n",
       "      <td>46.693333</td>\n",
       "      <td>19.2</td>\n",
       "      <td>44.722500</td>\n",
       "      <td>19.79</td>\n",
       "      <td>44.790000</td>\n",
       "      <td>19.000000</td>\n",
       "      <td>45.992500</td>\n",
       "      <td>17.166667</td>\n",
       "      <td>55.20</td>\n",
       "      <td>...</td>\n",
       "      <td>18.2</td>\n",
       "      <td>48.863333</td>\n",
       "      <td>17.066667</td>\n",
       "      <td>45.56</td>\n",
       "      <td>6.483333</td>\n",
       "      <td>733.6</td>\n",
       "      <td>92.0</td>\n",
       "      <td>6.666667</td>\n",
       "      <td>59.166667</td>\n",
       "      <td>5.2</td>\n",
       "    </tr>\n",
       "    <tr>\n",
       "      <th>2</th>\n",
       "      <td>19.89</td>\n",
       "      <td>46.300000</td>\n",
       "      <td>19.2</td>\n",
       "      <td>44.626667</td>\n",
       "      <td>19.79</td>\n",
       "      <td>44.933333</td>\n",
       "      <td>18.926667</td>\n",
       "      <td>45.890000</td>\n",
       "      <td>17.166667</td>\n",
       "      <td>55.09</td>\n",
       "      <td>...</td>\n",
       "      <td>18.2</td>\n",
       "      <td>48.730000</td>\n",
       "      <td>17.000000</td>\n",
       "      <td>45.50</td>\n",
       "      <td>6.366667</td>\n",
       "      <td>733.7</td>\n",
       "      <td>92.0</td>\n",
       "      <td>6.333333</td>\n",
       "      <td>55.333333</td>\n",
       "      <td>5.1</td>\n",
       "    </tr>\n",
       "  </tbody>\n",
       "</table>\n",
       "<p>3 rows × 24 columns</p>\n",
       "</div>"
      ],
      "text/plain": [
       "      T1       RH_1    T2       RH_2     T3       RH_3         T4       RH_4  \\\n",
       "0  19.89  47.596667  19.2  44.790000  19.79  44.730000  19.000000  45.566667   \n",
       "1  19.89  46.693333  19.2  44.722500  19.79  44.790000  19.000000  45.992500   \n",
       "2  19.89  46.300000  19.2  44.626667  19.79  44.933333  18.926667  45.890000   \n",
       "\n",
       "          T5   RH_5    ...        T8       RH_8         T9   RH_9     T_out  \\\n",
       "0  17.166667  55.20    ...      18.2  48.900000  17.033333  45.53  6.600000   \n",
       "1  17.166667  55.20    ...      18.2  48.863333  17.066667  45.56  6.483333   \n",
       "2  17.166667  55.09    ...      18.2  48.730000  17.000000  45.50  6.366667   \n",
       "\n",
       "   Press_mm_hg  RH_out  Windspeed  Visibility  Tdewpoint  \n",
       "0        733.5    92.0   7.000000   63.000000        5.3  \n",
       "1        733.6    92.0   6.666667   59.166667        5.2  \n",
       "2        733.7    92.0   6.333333   55.333333        5.1  \n",
       "\n",
       "[3 rows x 24 columns]"
      ]
     },
     "execution_count": 24,
     "metadata": {},
     "output_type": "execute_result"
    }
   ],
   "source": [
    "Xenergy.head(3)"
   ]
  },
  {
   "cell_type": "code",
   "execution_count": 27,
   "metadata": {},
   "outputs": [
    {
     "data": {
      "text/html": [
       "<div>\n",
       "<style scoped>\n",
       "    .dataframe tbody tr th:only-of-type {\n",
       "        vertical-align: middle;\n",
       "    }\n",
       "\n",
       "    .dataframe tbody tr th {\n",
       "        vertical-align: top;\n",
       "    }\n",
       "\n",
       "    .dataframe thead th {\n",
       "        text-align: right;\n",
       "    }\n",
       "</style>\n",
       "<table border=\"1\" class=\"dataframe\">\n",
       "  <thead>\n",
       "    <tr style=\"text-align: right;\">\n",
       "      <th></th>\n",
       "      <th>Appliances</th>\n",
       "      <th>lights</th>\n",
       "    </tr>\n",
       "  </thead>\n",
       "  <tbody>\n",
       "    <tr>\n",
       "      <th>0</th>\n",
       "      <td>60</td>\n",
       "      <td>30</td>\n",
       "    </tr>\n",
       "    <tr>\n",
       "      <th>1</th>\n",
       "      <td>60</td>\n",
       "      <td>30</td>\n",
       "    </tr>\n",
       "    <tr>\n",
       "      <th>2</th>\n",
       "      <td>50</td>\n",
       "      <td>30</td>\n",
       "    </tr>\n",
       "  </tbody>\n",
       "</table>\n",
       "</div>"
      ],
      "text/plain": [
       "   Appliances  lights\n",
       "0          60      30\n",
       "1          60      30\n",
       "2          50      30"
      ]
     },
     "execution_count": 27,
     "metadata": {},
     "output_type": "execute_result"
    }
   ],
   "source": [
    "Tenergy.head(3)"
   ]
  },
  {
   "cell_type": "markdown",
   "metadata": {},
   "source": [
    "Pandas is built on top of numpy so shape and other functions should look the same"
   ]
  },
  {
   "cell_type": "code",
   "execution_count": 28,
   "metadata": {},
   "outputs": [
    {
     "data": {
      "text/plain": [
       "((19735, 24), (19735, 2))"
      ]
     },
     "execution_count": 28,
     "metadata": {},
     "output_type": "execute_result"
    }
   ],
   "source": [
    "#((19735, 24), (19735, 2))\n",
    "Xenergy.shape, Tenergy.shape"
   ]
  },
  {
   "cell_type": "code",
   "execution_count": 29,
   "metadata": {},
   "outputs": [
    {
     "data": {
      "text/plain": [
       "['Appliances', 'lights']"
      ]
     },
     "execution_count": 29,
     "metadata": {},
     "output_type": "execute_result"
    }
   ],
   "source": [
    "Tenergy.columns.values.tolist()"
   ]
  },
  {
   "cell_type": "code",
   "execution_count": 32,
   "metadata": {},
   "outputs": [
    {
     "data": {
      "text/plain": [
       "array(['T1', 'RH_1', 'T2', 'RH_2', 'T3', 'RH_3', 'T4', 'RH_4', 'T5',\n",
       "       'RH_5', 'T6', 'RH_6', 'T7', 'RH_7', 'T8', 'RH_8', 'T9', 'RH_9',\n",
       "       'T_out', 'Press_mm_hg', 'RH_out', 'Windspeed', 'Visibility',\n",
       "       'Tdewpoint'], dtype=object)"
      ]
     },
     "execution_count": 32,
     "metadata": {},
     "output_type": "execute_result"
    }
   ],
   "source": [
    "Xenergy.columns.values"
   ]
  },
  {
   "cell_type": "markdown",
   "metadata": {},
   "source": [
    "Now that I am done using pandas to slice and clean the data I want to turn them back into numpy structures so they work with the imported code and their functions."
   ]
  },
  {
   "cell_type": "code",
   "execution_count": 33,
   "metadata": {},
   "outputs": [],
   "source": [
    "Xenergy = np.asarray(Xenergy)\n",
    "Tenergy = np.asarray(Tenergy)"
   ]
  },
  {
   "cell_type": "markdown",
   "metadata": {},
   "source": [
    "## Training several neural networks on all this data\n",
    "\n",
    "Given the task: Train several neural networks on all of this data for 100 iterations.  Plot the error trace (nnet.getErrorTrace()) to help you decide now many iterations might be needed.  I will train them until I see the error leveling out i.e. the slope becomes minimally changing.\n",
    "\n",
    "Now to use my `trainNNs`, `summarize`, and `bestNetwork` functions on this data to investigate various network sizes. (at least 100 repetitions)"
   ]
  },
  {
   "cell_type": "code",
   "execution_count": 35,
   "metadata": {},
   "outputs": [
    {
     "data": {
      "image/png": "[encoded data removed]",
      "text/plain": [
       "<Figure size 432x288 with 1 Axes>"
      ]
     },
     "metadata": {},
     "output_type": "display_data"
    }
   ],
   "source": [
    "nnet = nn.NeuralNetwork(Xenergy.shape[1], 0, Tenergy.shape[1])\n",
    "nnet.train(Xenergy, Tenergy, 100)\n",
    "plt.plot(nnet.getErrorTrace(), '-');"
   ]
  },
  {
   "cell_type": "code",
   "execution_count": 39,
   "metadata": {},
   "outputs": [
    {
     "data": {
      "image/png": "[encoded data removed]",
      "text/plain": [
       "<Figure size 432x288 with 1 Axes>"
      ]
     },
     "metadata": {},
     "output_type": "display_data"
    }
   ],
   "source": [
    "nnet = nn.NeuralNetwork(Xenergy.shape[1], 5, Tenergy.shape[1])\n",
    "nnet.train(Xenergy, Tenergy, 200)\n",
    "plt.plot(nnet.getErrorTrace(), '-');"
   ]
  },
  {
   "cell_type": "code",
   "execution_count": 37,
   "metadata": {},
   "outputs": [
    {
     "data": {
      "image/png": "[encoded data removed]",
      "text/plain": [
       "<Figure size 432x288 with 1 Axes>"
      ]
     },
     "metadata": {},
     "output_type": "display_data"
    }
   ],
   "source": [
    "nnet = nn.NeuralNetwork(Xenergy.shape[1], [5,5], Tenergy.shape[1])\n",
    "nnet.train(Xenergy, Tenergy, 200)\n",
    "plt.plot(nnet.getErrorTrace(), '-');"
   ]
  },
  {
   "cell_type": "code",
   "execution_count": 44,
   "metadata": {},
   "outputs": [
    {
     "data": {
      "image/png": "[encoded data removed]",
      "text/plain": [
       "<Figure size 432x288 with 1 Axes>"
      ]
     },
     "metadata": {},
     "output_type": "display_data"
    }
   ],
   "source": [
    "nnet = nn.NeuralNetwork(Xenergy.shape[1], [10,10], Tenergy.shape[1])\n",
    "nnet.train(Xenergy, Tenergy, 500)\n",
    "plt.plot(nnet.getErrorTrace(), '-');"
   ]
  },
  {
   "cell_type": "markdown",
   "metadata": {},
   "source": [
    "I would keep going to get the slope at the end even closer to zero but in the interest of the 10 structures I won't test all of them for much higher than 750"
   ]
  },
  {
   "cell_type": "code",
   "execution_count": 43,
   "metadata": {},
   "outputs": [
    {
     "data": {
      "image/png": "[encoded data removed]",
      "text/plain": [
       "<Figure size 432x288 with 1 Axes>"
      ]
     },
     "metadata": {},
     "output_type": "display_data"
    }
   ],
   "source": [
    "nnet = nn.NeuralNetwork(Xenergy.shape[1], 50, Tenergy.shape[1])\n",
    "nnet.train(Xenergy, Tenergy, 750)\n",
    "plt.plot(nnet.getErrorTrace(), '-');"
   ]
  },
  {
   "cell_type": "markdown",
   "metadata": {},
   "source": [
    "This network model could STILL use more repetitions to get even better results."
   ]
  },
  {
   "cell_type": "code",
   "execution_count": 42,
   "metadata": {},
   "outputs": [
    {
     "data": {
      "image/png": "[encoded data removed]",
      "text/plain": [
       "<Figure size 432x288 with 1 Axes>"
      ]
     },
     "metadata": {},
     "output_type": "display_data"
    }
   ],
   "source": [
    "nnet = nn.NeuralNetwork(Xenergy.shape[1], 100, Tenergy.shape[1])\n",
    "nnet.train(Xenergy, Tenergy, 1000)\n",
    "plt.plot(nnet.getErrorTrace(), '-');"
   ]
  },
  {
   "cell_type": "markdown",
   "metadata": {},
   "source": [
    "## Profiling four hidden network structures\n",
    "\n",
    "Based on inputs from the original assignment example I ddi some profiling to check where time was being spent"
   ]
  },
  {
   "cell_type": "code",
   "execution_count": 124,
   "metadata": {},
   "outputs": [],
   "source": [
    "import cProfile\n",
    "cp = cProfile.Profile()\n",
    "cp.enable()\n",
    "results = trainNNs(Xenergy, Tenergy, 0.8, [0, 5, [5,5], [10, 10]], 10, 100)\n",
    "cp.disable()"
   ]
  },
  {
   "cell_type": "markdown",
   "metadata": {},
   "source": [
    "Interpreting this performance data I can tell the most time spent is with the backward pass. 3:1 as opposed to the forward pass. The rest of the time was spent using the dot product in numpy to calculate as it went. The most expensive per call was scaledconjugategradient.py (scg) but was called the fewest by far. This is actually good because I can tell if we can optimize the backward pass and dot product (easy to do if used on the GPU) we can cut performance down and use better network structures in a much more timely manner since the data can get large and time can be consuming."
   ]
  },
  {
   "cell_type": "code",
   "execution_count": 46,
   "metadata": {},
   "outputs": [
    {
     "name": "stdout",
     "output_type": "stream",
     "text": [
      "         633227 function calls in 71.053 seconds\n",
      "\n",
      "   Ordered by: internal time\n",
      "   List reduced from 73 to 8 due to restriction <8>\n",
      "\n",
      "   ncalls  tottime  percall  cumtime  percall filename:lineno(function)\n",
      "     6776   32.405    0.005   47.291    0.007 neuralnetworks.py:125(_backward_pass)\n",
      "    89799   20.766    0.000   20.766    0.000 {built-in method numpy.core.multiarray.dot}\n",
      "    10416   11.442    0.001   17.836    0.002 neuralnetworks.py:110(_forward_pass)\n",
      "     6776    2.386    0.000   61.572    0.009 neuralnetworks.py:71(gradF)\n",
      "       40    1.465    0.037   70.136    1.753 scaledconjugategradient.py:26(scg)\n",
      "      120    0.332    0.003    0.332    0.003 neuralnetworks.py:142(_standardizeX)\n",
      "     3560    0.248    0.000    6.898    0.002 neuralnetworks.py:66(objectiveF)\n",
      "     3880    0.222    0.000    0.222    0.000 {method 'reduce' of 'numpy.ufunc' objects}\n",
      "\n",
      "\n"
     ]
    },
    {
     "data": {
      "text/plain": [
       "<pstats.Stats at 0x2b7e2ebca58>"
      ]
     },
     "execution_count": 46,
     "metadata": {},
     "output_type": "execute_result"
    }
   ],
   "source": [
    "import pstats\n",
    "stats = pstats.Stats(cp)\n",
    "stats.strip_dirs().sort_stats('tottime').print_stats(8)"
   ]
  },
  {
   "cell_type": "code",
   "execution_count": 47,
   "metadata": {},
   "outputs": [
    {
     "data": {
      "text/plain": [
       "[[10, 10], 63.12462616453526, 63.57949978435205, 34.12751340866089]"
      ]
     },
     "execution_count": 47,
     "metadata": {},
     "output_type": "execute_result"
    }
   ],
   "source": [
    "bestNetwork(summarize(results))"
   ]
  },
  {
   "cell_type": "markdown",
   "metadata": {},
   "source": [
    "## Testing 10 different hidden layer structures\n",
    "\n",
    "Test at least 10 different hidden layer structures.  Larger numbers of layers and units may do the best on training data, but not on testing data. Why?"
   ]
  },
  {
   "cell_type": "code",
   "execution_count": 48,
   "metadata": {},
   "outputs": [],
   "source": [
    "results_10_layers = trainNNs(Xenergy, Tenergy, 0.8, \n",
    "                   [1, 5, [5, 5], [10, 10],[1,2,3,4],15,20,[1,5,10,15,20],[2,2,2,2],[20,20,20,20]], \n",
    "                   10, 350)"
   ]
  },
  {
   "cell_type": "code",
   "execution_count": 49,
   "metadata": {},
   "outputs": [
    {
     "data": {
      "text/plain": [
       "[[1, 70.6632500033939, 69.4138663417843, 46.69731783866882],\n",
       " [5, 64.78335900946543, 65.91148540812893, 56.844542503356934],\n",
       " [[5, 5], 63.99879078068832, 64.94717769700208, 69.36939024925232],\n",
       " [[10, 10], 59.48062685125249, 63.673752162274276, 123.4345211982727],\n",
       " [[1, 2, 3, 4], 70.26799687401568, 70.04216572157645, 66.99576473236084],\n",
       " [15, 61.96638990530762, 63.38280813549161, 103.92664051055908],\n",
       " [20, 60.72490621675011, 62.684838118585866, 125.31644654273987],\n",
       " [[1, 5, 10, 15, 20],\n",
       "  70.08747534806642,\n",
       "  70.60093921459746,\n",
       "  231.51573657989502],\n",
       " [[2, 2, 2, 2], 66.23117289202136, 66.51176124750296, 62.0335795879364],\n",
       " [[20, 20, 20, 20], 49.77011521052817, 59.85194474683389, 358.9040699005127]]"
      ]
     },
     "execution_count": 49,
     "metadata": {},
     "output_type": "execute_result"
    }
   ],
   "source": [
    "summary_10_layers = summarize(results_10_layers)\n",
    "summary_10_layers"
   ]
  },
  {
   "cell_type": "code",
   "execution_count": 50,
   "metadata": {},
   "outputs": [
    {
     "data": {
      "text/plain": [
       "[[20, 20, 20, 20], 49.77011521052817, 59.85194474683389, 358.9040699005127]"
      ]
     },
     "execution_count": 50,
     "metadata": {},
     "output_type": "execute_result"
    }
   ],
   "source": [
    "bn_10_layers = bestNetwork(summary_10_layers)\n",
    "bn_10_layers"
   ]
  },
  {
   "cell_type": "markdown",
   "metadata": {},
   "source": [
    "## Training a network with the best hidden layer structure\n",
    "The following networks were trained using my best hidden layer structure from above. These were used to run partitions on the lights column and appliances columns of the target data matrix.\n",
    "For the testing data, the plots below show the predicted and actual `Appliances` energy use, and the predicted and actual `lights` energy use, in two separate plots."
   ]
  },
  {
   "cell_type": "code",
   "execution_count": 51,
   "metadata": {},
   "outputs": [
    {
     "data": {
      "text/plain": [
       "array(['Appliances', 'lights', 'T1', 'RH_1', 'T2', 'RH_2', 'T3', 'RH_3',\n",
       "       'T4', 'RH_4', 'T5', 'RH_5', 'T6', 'RH_6', 'T7', 'RH_7', 'T8',\n",
       "       'RH_8', 'T9', 'RH_9', 'T_out', 'Press_mm_hg', 'RH_out',\n",
       "       'Windspeed', 'Visibility', 'Tdewpoint'], dtype=object)"
      ]
     },
     "execution_count": 51,
     "metadata": {},
     "output_type": "execute_result"
    }
   ],
   "source": [
    "data.columns.values"
   ]
  },
  {
   "cell_type": "code",
   "execution_count": 52,
   "metadata": {},
   "outputs": [],
   "source": [
    "t_appliances = data.loc[:, ['Appliances']]\n",
    "t_lights = data.loc[:, ['lights']]\n",
    "x_appliances = data.loc[:, ['lights', 'T1', 'RH_1', 'T2', 'RH_2', 'T3', 'RH_3',\n",
    "       'T4', 'RH_4', 'T5', 'RH_5', 'T6', 'RH_6', 'T7', 'RH_7', 'T8',\n",
    "       'RH_8', 'T9', 'RH_9', 'T_out', 'Press_mm_hg', 'RH_out',\n",
    "       'Windspeed', 'Visibility', 'Tdewpoint']]\n",
    "x_lights = data.loc[:, ['Appliances', 'T1', 'RH_1', 'T2', 'RH_2', 'T3', 'RH_3',\n",
    "       'T4', 'RH_4', 'T5', 'RH_5', 'T6', 'RH_6', 'T7', 'RH_7', 'T8',\n",
    "       'RH_8', 'T9', 'RH_9', 'T_out', 'Press_mm_hg', 'RH_out',\n",
    "       'Windspeed', 'Visibility', 'Tdewpoint']]\n",
    "\n",
    "x_appliances, t_appliances = np.asarray(x_appliances),np.asarray(t_appliances)\n",
    "x_lights, t_lights = np.asarray(x_lights),np.asarray(t_lights)"
   ]
  },
  {
   "cell_type": "code",
   "execution_count": 53,
   "metadata": {},
   "outputs": [],
   "source": [
    "trainFraction=0.8"
   ]
  },
  {
   "cell_type": "markdown",
   "metadata": {},
   "source": [
    "I see that the appliances energy use was wide ranging. The more true appliance energy use the worse it was at predicting the energy based on the expected collection of points. You can see it attempting to follow the 45 degree angle from bottom left to top right but it was very wide ranging as time went on. I think this shows that the sample data was not enough to make a confident prediction. The lights energy use was even more wide ranging. Even when structured more at an expected increased slope the values wer still wide ranging for each prediction."
   ]
  },
  {
   "cell_type": "code",
   "execution_count": 120,
   "metadata": {},
   "outputs": [
    {
     "data": {
      "image/png": "[encoded data removed]",
      "text/plain": [
       "<Figure size 432x288 with 1 Axes>"
      ]
     },
     "metadata": {},
     "output_type": "display_data"
    }
   ],
   "source": [
    "Xatrain,Tatrain,Xatest,Tatest = ml.partition(x_appliances,t_appliances,(trainFraction,1-trainFraction),classification=False)\n",
    "nnet = nn.NeuralNetwork(x_appliances.shape[1], [20,20,20,20], t_appliances.shape[1])\n",
    "nnet.train(Xatrain,Tatrain,350)\n",
    "Yatrain = nnet.use(Xatrain)\n",
    "Yatest = nnet.use(Xatest)\n",
    "plotRegression(Tatest, Yatest,title=\"Appliances Energy Use - Testing Data: True vs Predicted\")"
   ]
  },
  {
   "cell_type": "code",
   "execution_count": 121,
   "metadata": {},
   "outputs": [
    {
     "data": {
      "image/png": "[encoded data removed]",
      "text/plain": [
       "<Figure size 432x288 with 1 Axes>"
      ]
     },
     "metadata": {},
     "output_type": "display_data"
    }
   ],
   "source": [
    "Xltrain,Tltrain,Xltest,Tltest = ml.partition(x_lights,t_lights,(trainFraction,1-trainFraction),classification=False)\n",
    "nnet = nn.NeuralNetwork(x_lights.shape[1], [20,20,20,20], t_lights.shape[1])\n",
    "nnet.train(Xltrain,Tltrain,350)\n",
    "Yltrain = nnet.use(Xltrain)\n",
    "Yltest = nnet.use(Xltest)\n",
    "plotRegression(Tltest, Yltest,title=\"Lights Energy Use - Testing Data: True vs Predicted\")"
   ]
  },
  {
   "cell_type": "code",
   "execution_count": 125,
   "metadata": {},
   "outputs": [],
   "source": [
    "# Use ml.partition to randomly partition X and T into training and testing sets.\n",
    "Xtrain,Ttrain,Xtest,Ttest = \\\n",
    "    ml.partition(Xenergy,Tenergy,(trainFraction,1-trainFraction),classification=False)"
   ]
  },
  {
   "cell_type": "code",
   "execution_count": 126,
   "metadata": {},
   "outputs": [],
   "source": [
    "nnet = nn.NeuralNetwork(Xenergy.shape[1], [20,20,20,20], Tenergy.shape[1]) #rXows, network structure, Trows"
   ]
  },
  {
   "cell_type": "code",
   "execution_count": 127,
   "metadata": {},
   "outputs": [
    {
     "data": {
      "text/plain": [
       "NeuralNetwork(24, [20, 20, 20, 20], 2)\n",
       "   Network was trained for 401 iterations. Final error is 0.4477484915870939."
      ]
     },
     "execution_count": 127,
     "metadata": {},
     "output_type": "execute_result"
    }
   ],
   "source": [
    "nnet.train(Xtrain,Ttrain,400) # precision not included, so defaults of zero used, \n",
    "                                 # which means will not terminate early"
   ]
  },
  {
   "cell_type": "code",
   "execution_count": 128,
   "metadata": {},
   "outputs": [
    {
     "data": {
      "text/plain": [
       "((15788, 2), (3947, 2), (3947, 2))"
      ]
     },
     "execution_count": 128,
     "metadata": {},
     "output_type": "execute_result"
    }
   ],
   "source": [
    "Ytrain = nnet.use(Xtrain)\n",
    "Ytest = nnet.use(Xtest) #Ttrain?\n",
    "Ytrain.shape, Ytest.shape, Ttest.shape"
   ]
  },
  {
   "cell_type": "markdown",
   "metadata": {},
   "source": [
    "## Plot Energy testing and training data for Appliances and analyze\n",
    "\n",
    "I wanted to show the target data together plotted versus the sample data. These were form the sample ran above but with 400 repetitions. It shows more repetitions gather the points a little closer to the expected range but the sample data was still not enough to make an accurate prediction."
   ]
  },
  {
   "cell_type": "code",
   "execution_count": 129,
   "metadata": {},
   "outputs": [
    {
     "data": {
      "image/png": "[encoded data removed]",
      "text/plain": [
       "<Figure size 432x288 with 1 Axes>"
      ]
     },
     "metadata": {},
     "output_type": "display_data"
    }
   ],
   "source": [
    "plotRegression(Ttest, Ytest,title=\"Energy - Testing Data: True vs Predicted\")"
   ]
  },
  {
   "cell_type": "code",
   "execution_count": 130,
   "metadata": {},
   "outputs": [
    {
     "data": {
      "image/png": "[encoded data removed]",
      "text/plain": [
       "<Figure size 432x288 with 1 Axes>"
      ]
     },
     "metadata": {},
     "output_type": "display_data"
    }
   ],
   "source": [
    "plotRegression(Ttrain, Ytrain,title=\"Energy - Training Data: True vs Predicted\")"
   ]
  },
  {
   "cell_type": "markdown",
   "metadata": {},
   "source": [
    "# Data for Classification Experiment\n",
    "\n",
    "Data extracted using pandas from the UCI Machine Learning Repository, Anuran Calls (MFCCs) http://archive.ics.uci.edu/ml/datasets/Anuran+Calls+%28MFCCs%29 data.\n",
    "I will try to predict the species. In order to convert the species to a target class, as an integer. I used `pandas` function `uynique` to create a mapping of the unique species to different nominal column values. "
   ]
  },
  {
   "cell_type": "code",
   "execution_count": 69,
   "metadata": {},
   "outputs": [],
   "source": [
    "# CSV file\n",
    "csv_file = 'Frogs_MFCCs.csv'\n",
    "url = 'http://archive.ics.uci.edu/ml/machine-learning-databases/00406/Anuran Calls (MFCCs).zip'"
   ]
  },
  {
   "cell_type": "code",
   "execution_count": 70,
   "metadata": {},
   "outputs": [],
   "source": [
    "# read cvs with pandas read_csv\n",
    "df = pd.read_csv(csv_file, delimiter=',', usecols=range(1,25))\n",
    "data = df.copy()"
   ]
  },
  {
   "cell_type": "code",
   "execution_count": 71,
   "metadata": {},
   "outputs": [],
   "source": [
    "Xanuran = np.array(data.iloc[:,:21])"
   ]
  },
  {
   "cell_type": "code",
   "execution_count": 72,
   "metadata": {},
   "outputs": [
    {
     "data": {
      "text/plain": [
       "array(['AdenomeraAndre', 'Ameeregatrivittata', 'AdenomeraHylaedactylus',\n",
       "       'HylaMinuta', 'HypsiboasCinerascens', 'HypsiboasCordobae',\n",
       "       'LeptodactylusFuscus', 'OsteocephalusOophagus',\n",
       "       'Rhinellagranulosa', 'ScinaxRuber'], dtype=object)"
      ]
     },
     "execution_count": 72,
     "metadata": {},
     "output_type": "execute_result"
    }
   ],
   "source": [
    "data.Species.unique()"
   ]
  },
  {
   "cell_type": "code",
   "execution_count": 73,
   "metadata": {},
   "outputs": [],
   "source": [
    "mapping_dict = {\n",
    "    \"Species\":{\n",
    "        'AdenomeraAndre': 0, \n",
    "        'Ameeregatrivittata': 1, \n",
    "        'AdenomeraHylaedactylus': 2,\n",
    "       'HylaMinuta':3 , \n",
    "        'HypsiboasCinerascens': 4, \n",
    "        'HypsiboasCordobae': 5,\n",
    "       'LeptodactylusFuscus': 6, \n",
    "        'OsteocephalusOophagus': 7,\n",
    "       'Rhinellagranulosa': 8, \n",
    "        'ScinaxRuber':9\n",
    "    }\n",
    "}"
   ]
  },
  {
   "cell_type": "code",
   "execution_count": 74,
   "metadata": {},
   "outputs": [
    {
     "data": {
      "text/html": [
       "<div>\n",
       "<style scoped>\n",
       "    .dataframe tbody tr th:only-of-type {\n",
       "        vertical-align: middle;\n",
       "    }\n",
       "\n",
       "    .dataframe tbody tr th {\n",
       "        vertical-align: top;\n",
       "    }\n",
       "\n",
       "    .dataframe thead th {\n",
       "        text-align: right;\n",
       "    }\n",
       "</style>\n",
       "<table border=\"1\" class=\"dataframe\">\n",
       "  <thead>\n",
       "    <tr style=\"text-align: right;\">\n",
       "      <th></th>\n",
       "      <th>Species</th>\n",
       "    </tr>\n",
       "  </thead>\n",
       "  <tbody>\n",
       "    <tr>\n",
       "      <th>0</th>\n",
       "      <td>AdenomeraAndre</td>\n",
       "    </tr>\n",
       "    <tr>\n",
       "      <th>1</th>\n",
       "      <td>AdenomeraAndre</td>\n",
       "    </tr>\n",
       "    <tr>\n",
       "      <th>2</th>\n",
       "      <td>AdenomeraAndre</td>\n",
       "    </tr>\n",
       "  </tbody>\n",
       "</table>\n",
       "</div>"
      ],
      "text/plain": [
       "          Species\n",
       "0  AdenomeraAndre\n",
       "1  AdenomeraAndre\n",
       "2  AdenomeraAndre"
      ]
     },
     "execution_count": 74,
     "metadata": {},
     "output_type": "execute_result"
    }
   ],
   "source": [
    "Tanuran = data.loc[:,['Species']]\n",
    "Tanuran.head(3)"
   ]
  },
  {
   "cell_type": "code",
   "execution_count": 75,
   "metadata": {},
   "outputs": [],
   "source": [
    "Tanuran = np.array(Tanuran.replace(mapping_dict), dtype=int)"
   ]
  },
  {
   "cell_type": "code",
   "execution_count": 76,
   "metadata": {},
   "outputs": [
    {
     "data": {
      "text/plain": [
       "((7195, 21), (7195, 1))"
      ]
     },
     "execution_count": 76,
     "metadata": {},
     "output_type": "execute_result"
    }
   ],
   "source": [
    "Xanuran.shape, Tanuran.shape"
   ]
  },
  {
   "cell_type": "code",
   "execution_count": 77,
   "metadata": {},
   "outputs": [
    {
     "data": {
      "text/plain": [
       "array([[ 0.1529363 , -0.1055859 ,  0.20072191,  0.31720106,  0.26076385,\n",
       "         0.10094464, -0.1500626 , -0.17112763,  0.12467644,  0.18865415,\n",
       "        -0.07562172, -0.15643593,  0.08224512,  0.13575204, -0.02401665,\n",
       "        -0.10835111, -0.07762252, -0.0095678 ,  0.05768398,  0.11868014,\n",
       "         0.01403845],\n",
       "       [ 0.17153426, -0.09897474,  0.26842522,  0.33867186,  0.2683531 ,\n",
       "         0.06083509, -0.22247464, -0.20769267,  0.17088287,  0.27095828,\n",
       "        -0.09500394, -0.25434147,  0.02278623,  0.1633201 ,  0.01202228,\n",
       "        -0.09097401, -0.05650952, -0.03530336,  0.02013996,  0.08226299,\n",
       "         0.02905574]])"
      ]
     },
     "execution_count": 77,
     "metadata": {},
     "output_type": "execute_result"
    }
   ],
   "source": [
    "Xanuran[:2,:]"
   ]
  },
  {
   "cell_type": "code",
   "execution_count": 78,
   "metadata": {},
   "outputs": [
    {
     "data": {
      "text/plain": [
       "(array([[0],\n",
       "        [0]]), 10)"
      ]
     },
     "execution_count": 78,
     "metadata": {},
     "output_type": "execute_result"
    }
   ],
   "source": [
    "Tanuran[:2], len(np.unique(Tanuran))"
   ]
  },
  {
   "cell_type": "code",
   "execution_count": 79,
   "metadata": {},
   "outputs": [
    {
     "name": "stdout",
     "output_type": "stream",
     "text": [
      "672 samples in class 0\n",
      "542 samples in class 1\n",
      "3478 samples in class 2\n",
      "310 samples in class 3\n",
      "472 samples in class 4\n",
      "1121 samples in class 5\n",
      "270 samples in class 6\n",
      "114 samples in class 7\n",
      "68 samples in class 8\n",
      "148 samples in class 9\n"
     ]
    }
   ],
   "source": [
    "for i in range(10):\n",
    "    print('{} samples in class {}'.format(np.sum(Tanuran==i), i))"
   ]
  },
  {
   "cell_type": "code",
   "execution_count": 80,
   "metadata": {},
   "outputs": [],
   "source": [
    "results = trainNNs(Xanuran, Tanuran, 0.8, [0, 5, [5, 5]], 5, 100, classify=True)"
   ]
  },
  {
   "cell_type": "code",
   "execution_count": 81,
   "metadata": {},
   "outputs": [
    {
     "data": {
      "text/plain": [
       "[[0, 0.026511466296038916, 0.035024322446143154, 1.2233009338378906],\n",
       " [5, 0.03728283530229326, 0.044892286309937454, 2.88735294342041],\n",
       " [[5, 5], 0.06615705350938152, 0.07810979847116054, 3.277127981185913]]"
      ]
     },
     "execution_count": 81,
     "metadata": {},
     "output_type": "execute_result"
    }
   ],
   "source": [
    "summarize(results)"
   ]
  },
  {
   "cell_type": "code",
   "execution_count": 82,
   "metadata": {},
   "outputs": [
    {
     "data": {
      "text/plain": [
       "[0, 0.026511466296038916, 0.035024322446143154, 1.2233009338378906]"
      ]
     },
     "execution_count": 82,
     "metadata": {},
     "output_type": "execute_result"
    }
   ],
   "source": [
    "bestNetwork(summarize(results))"
   ]
  },
  {
   "cell_type": "markdown",
   "metadata": {},
   "source": [
    "## Investigation into different Hidden layer structures\n",
    "\n",
    "I tested at least 10 different hidden layer structures. Then trained another network with my best hidden layer structure on 0.8 of the data and use the trained network on the testing data (the remaining 0.2 of the date). \n",
    "\n",
    "The Plots at the bottom reflect the predicted and actual `Species` for the testing data as an integer."
   ]
  },
  {
   "cell_type": "code",
   "execution_count": 83,
   "metadata": {},
   "outputs": [
    {
     "data": {
      "text/plain": [
       "[<matplotlib.lines.Line2D at 0x2b7e3000940>]"
      ]
     },
     "execution_count": 83,
     "metadata": {},
     "output_type": "execute_result"
    },
    {
     "data": {
      "image/png": "[encoded data removed]",
      "text/plain": [
       "<Figure size 432x288 with 1 Axes>"
      ]
     },
     "metadata": {},
     "output_type": "display_data"
    }
   ],
   "source": [
    "nnet = nn.NeuralNetworkClassifier(Xanuran.shape[1], 0, len(np.unique(Tanuran)))\n",
    "nnet.train(Xanuran, Tanuran, 10)\n",
    "plt.plot(nnet.getErrorTrace(), '-')"
   ]
  },
  {
   "cell_type": "code",
   "execution_count": 84,
   "metadata": {},
   "outputs": [
    {
     "data": {
      "text/plain": [
       "[<matplotlib.lines.Line2D at 0x2b7e2dac710>]"
      ]
     },
     "execution_count": 84,
     "metadata": {},
     "output_type": "execute_result"
    },
    {
     "data": {
      "image/png": "[encoded data removed]",
      "text/plain": [
       "<Figure size 432x288 with 1 Axes>"
      ]
     },
     "metadata": {},
     "output_type": "display_data"
    }
   ],
   "source": [
    "nnet = nn.NeuralNetworkClassifier(Xanuran.shape[1], 5, len(np.unique(Tanuran)))\n",
    "nnet.train(Xanuran, Tanuran, 50)\n",
    "plt.plot(nnet.getErrorTrace(), '-')"
   ]
  },
  {
   "cell_type": "code",
   "execution_count": 85,
   "metadata": {},
   "outputs": [
    {
     "data": {
      "text/plain": [
       "[<matplotlib.lines.Line2D at 0x2b7e2e67860>]"
      ]
     },
     "execution_count": 85,
     "metadata": {},
     "output_type": "execute_result"
    },
    {
     "data": {
      "image/png": "[encoded data removed]",
      "text/plain": [
       "<Figure size 432x288 with 1 Axes>"
      ]
     },
     "metadata": {},
     "output_type": "display_data"
    }
   ],
   "source": [
    "nnet = nn.NeuralNetworkClassifier(Xanuran.shape[1], [5,5], len(np.unique(Tanuran)))\n",
    "nnet.train(Xanuran, Tanuran, 100)\n",
    "plt.plot(nnet.getErrorTrace(), '-')"
   ]
  },
  {
   "cell_type": "code",
   "execution_count": 86,
   "metadata": {},
   "outputs": [
    {
     "data": {
      "text/plain": [
       "[<matplotlib.lines.Line2D at 0x2b7e29806d8>]"
      ]
     },
     "execution_count": 86,
     "metadata": {},
     "output_type": "execute_result"
    },
    {
     "data": {
      "image/png": "[encoded data removed]",
      "text/plain": [
       "<Figure size 432x288 with 1 Axes>"
      ]
     },
     "metadata": {},
     "output_type": "display_data"
    }
   ],
   "source": [
    "nnet = nn.NeuralNetworkClassifier(Xanuran.shape[1], [10,10], len(np.unique(Tanuran)))\n",
    "nnet.train(Xanuran, Tanuran, 75)\n",
    "plt.plot(nnet.getErrorTrace(), '-')"
   ]
  },
  {
   "cell_type": "code",
   "execution_count": 87,
   "metadata": {},
   "outputs": [
    {
     "data": {
      "text/plain": [
       "[<matplotlib.lines.Line2D at 0x2b7e2e80048>]"
      ]
     },
     "execution_count": 87,
     "metadata": {},
     "output_type": "execute_result"
    },
    {
     "data": {
      "image/png": "[encoded data removed]",
      "text/plain": [
       "<Figure size 432x288 with 1 Axes>"
      ]
     },
     "metadata": {},
     "output_type": "display_data"
    }
   ],
   "source": [
    "nnet = nn.NeuralNetwork(Xanuran.shape[1], 50, len(np.unique(Tanuran)))\n",
    "nnet.train(Xanuran, Tanuran, 10)\n",
    "plt.plot(nnet.getErrorTrace(), '-')"
   ]
  },
  {
   "cell_type": "markdown",
   "metadata": {},
   "source": [
    "I wanted to test a small size of hidden layer structures to see what it would determine was best"
   ]
  },
  {
   "cell_type": "code",
   "execution_count": 88,
   "metadata": {},
   "outputs": [],
   "source": [
    "results_small = trainNNs(Xanuran, Tanuran, 0.8, [0, 5, [5, 5], [10,10], 50], 5, 75, True)"
   ]
  },
  {
   "cell_type": "code",
   "execution_count": 89,
   "metadata": {},
   "outputs": [
    {
     "data": {
      "text/plain": [
       "[[0, 0.031584433634468376, 0.036692147324530924, 0.8924896717071533],\n",
       " [5, 0.03561501042390549, 0.04739402362751911, 2.3736441135406494],\n",
       " [[5, 5], 0.06525364836692146, 0.07129951355107714, 2.5945193767547607],\n",
       " [[10, 10], 0.012022237665045172, 0.02640722724113968, 3.441035032272339],\n",
       " [50, 0.0, 0.011535788742182073, 9.375645875930786]]"
      ]
     },
     "execution_count": 89,
     "metadata": {},
     "output_type": "execute_result"
    }
   ],
   "source": [
    "summary = summarize(results_small)\n",
    "summary"
   ]
  },
  {
   "cell_type": "code",
   "execution_count": 90,
   "metadata": {},
   "outputs": [
    {
     "data": {
      "text/plain": [
       "[50, 0.0, 0.011535788742182073, 9.375645875930786]"
      ]
     },
     "execution_count": 90,
     "metadata": {},
     "output_type": "execute_result"
    }
   ],
   "source": [
    "bestNetwork(summary)"
   ]
  },
  {
   "cell_type": "markdown",
   "metadata": {},
   "source": [
    "Continuing my investigation..."
   ]
  },
  {
   "cell_type": "code",
   "execution_count": 91,
   "metadata": {},
   "outputs": [
    {
     "data": {
      "text/plain": [
       "[<matplotlib.lines.Line2D at 0x2b7e30277b8>]"
      ]
     },
     "execution_count": 91,
     "metadata": {},
     "output_type": "execute_result"
    },
    {
     "data": {
      "image/png": "[encoded data removed]",
      "text/plain": [
       "<Figure size 432x288 with 1 Axes>"
      ]
     },
     "metadata": {},
     "output_type": "display_data"
    }
   ],
   "source": [
    "nnet = nn.NeuralNetwork(Xanuran.shape[1], [1,2,3,4], len(np.unique(Tanuran)))\n",
    "nnet.train(Xanuran, Tanuran, 10)\n",
    "plt.plot(nnet.getErrorTrace(), '-')"
   ]
  },
  {
   "cell_type": "code",
   "execution_count": 107,
   "metadata": {},
   "outputs": [
    {
     "data": {
      "text/plain": [
       "[<matplotlib.lines.Line2D at 0x2b7e213eb00>]"
      ]
     },
     "execution_count": 107,
     "metadata": {},
     "output_type": "execute_result"
    },
    {
     "data": {
      "image/png": "[encoded data removed]",
      "text/plain": [
       "<Figure size 432x288 with 1 Axes>"
      ]
     },
     "metadata": {},
     "output_type": "display_data"
    }
   ],
   "source": [
    "nnet = nn.NeuralNetwork(Xanuran.shape[1], [4,3,2,1], len(np.unique(Tanuran)))\n",
    "nnet.train(Xanuran, Tanuran, 12)\n",
    "plt.plot(nnet.getErrorTrace(), '-')"
   ]
  },
  {
   "cell_type": "code",
   "execution_count": 93,
   "metadata": {},
   "outputs": [
    {
     "data": {
      "text/plain": [
       "[<matplotlib.lines.Line2D at 0x2b7e2ef1128>]"
      ]
     },
     "execution_count": 93,
     "metadata": {},
     "output_type": "execute_result"
    },
    {
     "data": {
      "image/png": "[encoded data removed]",
      "text/plain": [
       "<Figure size 432x288 with 1 Axes>"
      ]
     },
     "metadata": {},
     "output_type": "display_data"
    }
   ],
   "source": [
    "nnet = nn.NeuralNetwork(Xanuran.shape[1], [1,5,10,15,20], len(np.unique(Tanuran)))\n",
    "nnet.train(Xanuran, Tanuran, 10)\n",
    "plt.plot(nnet.getErrorTrace(), '-')"
   ]
  },
  {
   "cell_type": "code",
   "execution_count": 94,
   "metadata": {},
   "outputs": [
    {
     "data": {
      "text/plain": [
       "[<matplotlib.lines.Line2D at 0x2b7e2e83da0>]"
      ]
     },
     "execution_count": 94,
     "metadata": {},
     "output_type": "execute_result"
    },
    {
     "data": {
      "image/png": "[encoded data removed]",
      "text/plain": [
       "<Figure size 432x288 with 1 Axes>"
      ]
     },
     "metadata": {},
     "output_type": "display_data"
    }
   ],
   "source": [
    "nnet = nn.NeuralNetwork(Xanuran.shape[1], [2,2,2,2], len(np.unique(Tanuran)))\n",
    "nnet.train(Xanuran, Tanuran, 10)\n",
    "plt.plot(nnet.getErrorTrace(), '-')"
   ]
  },
  {
   "cell_type": "code",
   "execution_count": 108,
   "metadata": {},
   "outputs": [
    {
     "data": {
      "text/plain": [
       "[<matplotlib.lines.Line2D at 0x2b7e21a62e8>]"
      ]
     },
     "execution_count": 108,
     "metadata": {},
     "output_type": "execute_result"
    },
    {
     "data": {
      "image/png": "[encoded data removed]",
      "text/plain": [
       "<Figure size 432x288 with 1 Axes>"
      ]
     },
     "metadata": {},
     "output_type": "display_data"
    }
   ],
   "source": [
    "nnet = nn.NeuralNetwork(Xanuran.shape[1], [20,20,20,20], len(np.unique(Tanuran)))\n",
    "nnet.train(Xanuran, Tanuran, 18)\n",
    "plt.plot(nnet.getErrorTrace(), '-')"
   ]
  },
  {
   "cell_type": "code",
   "execution_count": 96,
   "metadata": {},
   "outputs": [],
   "source": [
    "results_10_layers = trainNNs(Xanuran, Tanuran, 0.8, \n",
    "                   [0, 5, [5, 5], [10, 10],[1,2,3,4],50,[4,3,2,1],[1,5,10,15,20],[2,2,2,2],[20,20,20,20]], \n",
    "                   10, 100, True)"
   ]
  },
  {
   "cell_type": "code",
   "execution_count": 97,
   "metadata": {},
   "outputs": [
    {
     "data": {
      "text/plain": [
       "[[0, 0.026737317581653923, 0.03703961084086171, 2.3716471195220947],\n",
       " [5, 0.037334954829742875, 0.045726198749131336, 6.459310054779053],\n",
       " [[5, 5], 0.07223766504517025, 0.0817234190410007, 7.5786731243133545],\n",
       " [[10, 10], 0.0055072967338429465, 0.02355802640722724, 9.24472188949585],\n",
       " [[1, 2, 3, 4], 0.3455177206393329, 0.34920083391243917, 7.183897495269775],\n",
       " [50, 0.0, 0.01063238359972203, 23.241729497909546],\n",
       " [[4, 3, 2, 1], 0.35837387074357185, 0.3587908269631689, 7.950460195541382],\n",
       " [[1, 5, 10, 15, 20],\n",
       "  0.25314454482279364,\n",
       "  0.25580264072272413,\n",
       "  16.330676317214966],\n",
       " [[2, 2, 2, 2], 0.3128214037526059, 0.31535788742182075, 6.518276929855347],\n",
       " [[20, 20, 20, 20],\n",
       "  0.0029360667129951354,\n",
       "  0.023905489923558027,\n",
       "  23.288702487945557]]"
      ]
     },
     "execution_count": 97,
     "metadata": {},
     "output_type": "execute_result"
    }
   ],
   "source": [
    "summary_10_layers = summarize(results_10_layers)\n",
    "summary_10_layers"
   ]
  },
  {
   "cell_type": "code",
   "execution_count": 98,
   "metadata": {},
   "outputs": [
    {
     "data": {
      "text/plain": [
       "[50, 0.0, 0.01063238359972203, 23.241729497909546]"
      ]
     },
     "execution_count": 98,
     "metadata": {},
     "output_type": "execute_result"
    }
   ],
   "source": [
    "bn_10_layers = bestNetwork(summary_10_layers)\n",
    "bn_10_layers"
   ]
  },
  {
   "cell_type": "markdown",
   "metadata": {},
   "source": [
    "Now that I have my best network structure from what I tested above, I can use it to plot the predicted vs actual data for Anuran Calls."
   ]
  },
  {
   "cell_type": "code",
   "execution_count": 131,
   "metadata": {},
   "outputs": [],
   "source": [
    "# Use ml.partition to randomly partition X and T into training and testing sets.\n",
    "Xtrain,Ttrain,Xtest,Ttest = \\\n",
    "    ml.partition(Xanuran,Tanuran,(0.8,0.2),classification=True)"
   ]
  },
  {
   "cell_type": "code",
   "execution_count": 132,
   "metadata": {},
   "outputs": [],
   "source": [
    "nnet = nn.NeuralNetworkClassifier(Xanuran.shape[1], 50, len(np.unique(Tanuran))) #rXows, network structure, Trows"
   ]
  },
  {
   "cell_type": "code",
   "execution_count": 133,
   "metadata": {},
   "outputs": [
    {
     "data": {
      "text/plain": [
       "NeuralNetwork(21, [50], 10)\n",
       "   Network was trained for 75 iterations. Final error is 9.319415495957233e-07."
      ]
     },
     "execution_count": 133,
     "metadata": {},
     "output_type": "execute_result"
    }
   ],
   "source": [
    "nnet.train(Xtrain,Ttrain,75) # precision not included, so defaults of zero used, \n",
    "                                 # which means will not terminate early"
   ]
  },
  {
   "cell_type": "code",
   "execution_count": 134,
   "metadata": {},
   "outputs": [
    {
     "data": {
      "text/plain": [
       "((5756, 1), (1439, 1), (1439, 1))"
      ]
     },
     "execution_count": 134,
     "metadata": {},
     "output_type": "execute_result"
    }
   ],
   "source": [
    "Ytrain = nnet.use(Xtrain)\n",
    "Ytest = nnet.use(Xtest) #Ttrain?\n",
    "Ytrain.shape, Ytest.shape, Ttest.shape"
   ]
  },
  {
   "cell_type": "markdown",
   "metadata": {},
   "source": [
    "## Plot testing and training data for target \"Species\" in the Anuran Calls MFCC data\n",
    "\n",
    "Without connecting the dots on the plot, I can see the range is very close to the expected slope on the testing data. The species were printed as mapped from above"
   ]
  },
  {
   "cell_type": "code",
   "execution_count": 140,
   "metadata": {},
   "outputs": [
    {
     "name": "stdout",
     "output_type": "stream",
     "text": [
      "{'Species': {'AdenomeraAndre': 0, 'Ameeregatrivittata': 1, 'AdenomeraHylaedactylus': 2, 'HylaMinuta': 3, 'HypsiboasCinerascens': 4, 'HypsiboasCordobae': 5, 'LeptodactylusFuscus': 6, 'OsteocephalusOophagus': 7, 'Rhinellagranulosa': 8, 'ScinaxRuber': 9}}\n"
     ]
    },
    {
     "data": {
      "text/plain": [
       "[<matplotlib.lines.Line2D at 0x2b7e7454a58>]"
      ]
     },
     "execution_count": 140,
     "metadata": {},
     "output_type": "execute_result"
    },
    {
     "data": {
      "image/png": "[encoded data removed]",
      "text/plain": [
       "<Figure size 432x288 with 1 Axes>"
      ]
     },
     "metadata": {},
     "output_type": "display_data"
    }
   ],
   "source": [
    "print(str(mapping_dict))\n",
    "plt.plot(Ttest, Ytest,\"g.\")"
   ]
  },
  {
   "cell_type": "markdown",
   "metadata": {},
   "source": [
    "The plot of the training data on the species matched up exactly with the expected slope. The True verse predicted plot shows the sample data used and target data used was perfect for this data set."
   ]
  },
  {
   "cell_type": "code",
   "execution_count": 141,
   "metadata": {},
   "outputs": [
    {
     "name": "stdout",
     "output_type": "stream",
     "text": [
      "{'Species': {'AdenomeraAndre': 0, 'Ameeregatrivittata': 1, 'AdenomeraHylaedactylus': 2, 'HylaMinuta': 3, 'HypsiboasCinerascens': 4, 'HypsiboasCordobae': 5, 'LeptodactylusFuscus': 6, 'OsteocephalusOophagus': 7, 'Rhinellagranulosa': 8, 'ScinaxRuber': 9}}\n"
     ]
    },
    {
     "data": {
      "text/plain": [
       "[<matplotlib.lines.Line2D at 0x2b7e74ac240>]"
      ]
     },
     "execution_count": 141,
     "metadata": {},
     "output_type": "execute_result"
    },
    {
     "data": {
      "image/png": "[encoded data removed]",
      "text/plain": [
       "<Figure size 432x288 with 1 Axes>"
      ]
     },
     "metadata": {},
     "output_type": "display_data"
    }
   ],
   "source": [
    "print(str(mapping_dict))\n",
    "plt.plot(Ttrain, Ytrain,\"g.-\")#title=\"Frogs_MFCC - Species Training Data: True vs Predicted\")"
   ]
  },
  {
   "cell_type": "markdown",
   "metadata": {},
   "source": [
    "# Testing the functions"
   ]
  },
  {
   "cell_type": "code",
   "execution_count": 113,
   "metadata": {
    "scrolled": true
   },
   "outputs": [
    {
     "name": "stdout",
     "output_type": "stream",
     "text": [
      "\n",
      "======================= Code Execution =======================\n",
      "\n",
      "\n",
      "Testing summarize([[[1,1], [1.2, 1.3, 1.4], [2.2, 2.3, 2.4], 0.5], [[2,2,2], [4.4, 4.3, 4.2], [6.5, 6.4, 6.3], 0.6]])\n",
      "\n",
      "--- 10/10 points. Correctly returned [[[1, 1], 1.3, 2.3000000000000003, 0.5], [[2, 2, 2], 4.3, 6.3999999999999995, 0.6]]\n",
      "\n",
      "Testing bestNetwork([[[1, 1], 1.3, 2.3, 0.5], [[2, 2, 2], 4.3, 1.3, 0.6]])\n",
      "\n",
      "--- 10/10 points. Correctly returned [[2, 2, 2], 4.3, 1.3, 0.6]\n",
      "\n",
      "X = np.random.uniform(-1, 1, (100, 3))\n",
      "T = np.hstack(((X**2 - 0.2*X**3).sum(axis=1,keepdims=True),\n",
      "               (np.sin(X)).sum(axis=1,keepdims=True)))\n",
      "result = trainNNs(X, T, 0.7, [0, 5, 10, [20, 20]], 10, 100, False)\n",
      "\n",
      "--- 20/20 points. Correct.\n",
      "\n",
      "Testing bestNetwork(summarize(result))\n",
      "\n",
      "--- 20/20 points. You correctly found that network [20, 20] is best.\n",
      "\n",
      "C:\\Users\\Draqolv\\Downloads\\cs440\\cs440\\Jupyter Notebook Viewer_files Execution Grade is 60 / 60\n",
      "\n",
      "======================= The regression data set =======================\n",
      "\n",
      "--- _ / 5 points. Read the data in energydata_complete.csv into variables Xenergy and Tenergy.\n",
      "\n",
      "--- _ / 5 points. Train some networks by calling the NeuralNetwork constructor and train method and plot the error trace to help you decide now many iterations might be needed.\n",
      "\n",
      "--- _ / 5 points. Try at least 10 different hidden layer structures using trainNNs.\n",
      "\n",
      "--- _ / 5 points. Train another network with your best hidden layer structure on 0.8 of the data and test it on remaining 0.2 of the data. Plot the predicted and actual Appliances energy use, and the predicted and actual lights energy use, in two separate plots. Discuss what you see.\n",
      "\n",
      "======================= Classification data set =======================\n",
      "\n",
      "--- _ / 5 points. Read the data in Frogs_MFCCs.csv into variables Xanuran and Tanuran.\n",
      "\n",
      "--- _ / 5 points. Train some networks by calling the NeuralNetwork constructor and train method and plot the error trace to help you decide now many iterations might be needed.\n",
      "\n",
      "--- _ / 5 points. Try at least 10 different hidden layer structures using trainNNs.\n",
      "\n",
      "--- _ / 5 points. Train another network with your best hidden layer structure on 0.8 of the data and test it on remaining 0.2 of the data. Plot the predicted and actual class labels. Discuss what you see.\n",
      "\n",
      "C:\\Users\\Draqolv\\Downloads\\cs440\\cs440\\Jupyter Notebook Viewer_files Notebook Grade is   / 40\n",
      "\n",
      "C:\\Users\\Draqolv\\Downloads\\cs440\\cs440\\Jupyter Notebook Viewer_files FINAL GRADE is  / 100\n",
      "\n",
      "\n",
      "C:\\Users\\Draqolv\\Downloads\\cs440\\cs440\\Jupyter Notebook Viewer_files EXTRA CREDIT is  / 1\n"
     ]
    },
    {
     "data": {
      "text/plain": [
       "<Figure size 432x288 with 0 Axes>"
      ]
     },
     "metadata": {},
     "output_type": "display_data"
    }
   ],
   "source": [
    "%run -i \"A5grader.py\""
   ]
  },
  {
   "cell_type": "code",
   "execution_count": null,
   "metadata": {},
   "outputs": [],
   "source": [
    "!cat neuralnetwork"
   ]
  },
  {
   "cell_type": "code",
   "execution_count": null,
   "metadata": {},
   "outputs": [],
   "source": []
  }
 ],
 "metadata": {
  "anaconda-cloud": {},
  "kernelspec": {
   "display_name": "Python 3",
   "language": "python",
   "name": "python3"
  },
  "language_info": {
   "codemirror_mode": {
    "name": "ipython",
    "version": 3
   },
   "file_extension": ".py",
   "mimetype": "text/x-python",
   "name": "python",
   "nbconvert_exporter": "python",
   "pygments_lexer": "ipython3",
   "version": "3.6.5"
  },
  "toc": {
   "nav_menu": {},
   "number_sections": true,
   "sideBar": true,
   "skip_h1_title": false,
   "toc_cell": false,
   "toc_position": {},
   "toc_section_display": "block",
   "toc_window_display": false
  }
 },
 "nbformat": 4,
 "nbformat_minor": 1
}
